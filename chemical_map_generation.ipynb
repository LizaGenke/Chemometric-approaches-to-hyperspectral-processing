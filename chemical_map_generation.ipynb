{
 "cells": [
  {
   "cell_type": "markdown",
   "id": "0a4ea7ae",
   "metadata": {},
   "source": [
    "## Optimal model"
   ]
  },
  {
   "cell_type": "markdown",
   "id": "63d01419",
   "metadata": {},
   "source": [
    "Model application on image to generate chemical map"
   ]
  },
  {
   "cell_type": "markdown",
   "id": "382e483d",
   "metadata": {},
   "source": [
    "Validation of chemical maps"
   ]
  },
  {
   "cell_type": "markdown",
   "id": "1a0fa038",
   "metadata": {},
   "source": []
  }
 ],
 "metadata": {
  "language_info": {
   "name": "python"
  }
 },
 "nbformat": 4,
 "nbformat_minor": 5
}
