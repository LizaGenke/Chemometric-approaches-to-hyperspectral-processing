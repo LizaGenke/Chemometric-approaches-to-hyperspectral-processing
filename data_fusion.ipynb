{
 "cells": [
  {
   "cell_type": "markdown",
   "id": "8f092ca8",
   "metadata": {},
   "source": [
    "## Fusion of information from multiple sensors"
   ]
  },
  {
   "cell_type": "markdown",
   "id": "e2eb5220",
   "metadata": {},
   "source": [
    "Fusion of spectral and spatial information"
   ]
  },
  {
   "cell_type": "markdown",
   "id": "3e1a22ab",
   "metadata": {},
   "source": []
  }
 ],
 "metadata": {
  "language_info": {
   "name": "python"
  }
 },
 "nbformat": 4,
 "nbformat_minor": 5
}
