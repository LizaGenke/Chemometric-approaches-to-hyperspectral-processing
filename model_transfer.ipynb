{
 "cells": [
  {
   "cell_type": "markdown",
   "id": "d3bd4260",
   "metadata": {},
   "source": [
    "## Transfer of models between cameras"
   ]
  },
  {
   "cell_type": "markdown",
   "id": "30d8e244",
   "metadata": {},
   "source": [
    "Transfer of model from spectrometer to camera"
   ]
  },
  {
   "cell_type": "markdown",
   "id": "072adb35",
   "metadata": {},
   "source": []
  }
 ],
 "metadata": {
  "language_info": {
   "name": "python"
  }
 },
 "nbformat": 4,
 "nbformat_minor": 5
}
