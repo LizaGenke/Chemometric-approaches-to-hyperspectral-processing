{
 "cells": [
  {
   "cell_type": "code",
   "execution_count": 2,
   "id": "b69898b1",
   "metadata": {},
   "outputs": [],
   "source": [
    "### Spectral analysis"
   ]
  },
  {
   "cell_type": "markdown",
   "id": "1727043d",
   "metadata": {},
   "source": [
    "## Loading of the spectral data and references"
   ]
  },
  {
   "cell_type": "markdown",
   "id": "835d20dd",
   "metadata": {},
   "source": [
    "## Outliers removal (unsupervised, PCA)"
   ]
  },
  {
   "cell_type": "markdown",
   "id": "c4ddd903",
   "metadata": {},
   "source": [
    "Outlier removal from references"
   ]
  },
  {
   "cell_type": "markdown",
   "id": "fccff19b",
   "metadata": {},
   "source": [
    "Outlier removal from spectra"
   ]
  },
  {
   "cell_type": "markdown",
   "id": "d3b95b07",
   "metadata": {},
   "source": [
    "## Pre-processing of data"
   ]
  },
  {
   "cell_type": "markdown",
   "id": "2627ac5b",
   "metadata": {},
   "source": [
    "Smoothing"
   ]
  },
  {
   "cell_type": "markdown",
   "id": "63029ee1",
   "metadata": {},
   "source": [
    "Scatter correction"
   ]
  },
  {
   "cell_type": "markdown",
   "id": "ac52e447",
   "metadata": {},
   "source": [
    "Derivative"
   ]
  },
  {
   "cell_type": "markdown",
   "id": "e144e207",
   "metadata": {},
   "source": [
    "Automated pre-processing (nippy)"
   ]
  },
  {
   "cell_type": "markdown",
   "id": "7dada4dc",
   "metadata": {},
   "source": [
    "## Data partition"
   ]
  },
  {
   "cell_type": "markdown",
   "id": "45ccff7d",
   "metadata": {},
   "source": [
    "Kennard-Stone partition"
   ]
  },
  {
   "cell_type": "markdown",
   "id": "64aad494",
   "metadata": {},
   "source": [
    "Duplex partition (some more coming)"
   ]
  },
  {
   "cell_type": "markdown",
   "id": "a2643dca",
   "metadata": {},
   "source": [
    "## Spectral calibration"
   ]
  },
  {
   "cell_type": "markdown",
   "id": "8d6d406e",
   "metadata": {},
   "source": [
    "Principal component regression"
   ]
  },
  {
   "cell_type": "markdown",
   "id": "03e9345f",
   "metadata": {},
   "source": [
    "PLSR "
   ]
  },
  {
   "cell_type": "markdown",
   "id": "801242e7",
   "metadata": {},
   "source": [
    "Supervised outlier removal with PLS (& explain cross-validation)"
   ]
  },
  {
   "cell_type": "markdown",
   "id": "75ec0d48",
   "metadata": {},
   "source": [
    "Model diagnostics"
   ]
  },
  {
   "cell_type": "markdown",
   "id": "02521367",
   "metadata": {},
   "source": [
    "Deep learning methods (simple convolution)"
   ]
  },
  {
   "cell_type": "markdown",
   "id": "cc8f70cc",
   "metadata": {},
   "source": []
  }
 ],
 "metadata": {
  "kernelspec": {
   "display_name": "hyperspectral",
   "language": "python",
   "name": "python3"
  },
  "language_info": {
   "codemirror_mode": {
    "name": "ipython",
    "version": 3
   },
   "file_extension": ".py",
   "mimetype": "text/x-python",
   "name": "python",
   "nbconvert_exporter": "python",
   "pygments_lexer": "ipython3",
   "version": "3.13.3"
  }
 },
 "nbformat": 4,
 "nbformat_minor": 5
}
